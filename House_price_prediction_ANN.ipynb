{
 "cells": [
  {
   "cell_type": "markdown",
   "metadata": {},
   "source": [
    "# Predicting Housing Prices in Delhi, India Using Neural Networks"
   ]
  },
  {
   "cell_type": "markdown",
   "metadata": {},
   "source": [
    "House Price Dataset of Delhi, scraped from Magic Bricks between June 2021 and July 2021, containing 18 columns."
   ]
  },
  {
   "cell_type": "code",
   "execution_count": 1,
   "metadata": {
    "colab": {
     "base_uri": "https://localhost:8080/"
    },
    "id": "gJINPzxBW0C5",
    "outputId": "c22cf7c3-4fef-431f-fd5a-ce28b78b6b32"
   },
   "outputs": [
    {
     "name": "stdout",
     "output_type": "stream",
     "text": [
      "Dataset URL: https://www.kaggle.com/datasets/goelyash/housing-price-dataset-of-delhiindia\n",
      "License(s): CC0-1.0\n",
      "housing-price-dataset-of-delhiindia.zip: Skipping, found more recently modified local copy (use --force to force download)\n"
     ]
    }
   ],
   "source": [
    "!kaggle datasets download -d goelyash/housing-price-dataset-of-delhiindia"
   ]
  },
  {
   "cell_type": "code",
   "execution_count": 2,
   "metadata": {},
   "outputs": [],
   "source": [
    "# Surpress warnings:\n",
    "def warn(*args, **kwargs):\n",
    "    pass\n",
    "import warnings\n",
    "warnings.warn = warn"
   ]
  },
  {
   "cell_type": "code",
   "execution_count": 3,
   "metadata": {
    "id": "HA8F85pQXFnU"
   },
   "outputs": [],
   "source": [
    "import zipfile\n",
    "zip_ref=zipfile.ZipFile(\"housing-price-dataset-of-delhiindia.zip\",\"r\")\n",
    "zip_ref.extractall()\n",
    "zip_ref.close()"
   ]
  },
  {
   "cell_type": "code",
   "execution_count": 4,
   "metadata": {
    "id": "6xLxa1iLXN6q"
   },
   "outputs": [],
   "source": [
    "import pandas as pd\n",
    "import numpy as np\n",
    "import matplotlib.pyplot as plt\n",
    "import seaborn as sns"
   ]
  },
  {
   "cell_type": "code",
   "execution_count": 5,
   "metadata": {
    "colab": {
     "base_uri": "https://localhost:8080/",
     "height": 521
    },
    "id": "ctmxmFI2XYPh",
    "outputId": "fcdc4cb6-7bf1-43bb-f921-18423c732f0e"
   },
   "outputs": [
    {
     "data": {
      "text/html": [
       "<div>\n",
       "<style scoped>\n",
       "    .dataframe tbody tr th:only-of-type {\n",
       "        vertical-align: middle;\n",
       "    }\n",
       "\n",
       "    .dataframe tbody tr th {\n",
       "        vertical-align: top;\n",
       "    }\n",
       "\n",
       "    .dataframe thead th {\n",
       "        text-align: right;\n",
       "    }\n",
       "</style>\n",
       "<table border=\"1\" class=\"dataframe\">\n",
       "  <thead>\n",
       "    <tr style=\"text-align: right;\">\n",
       "      <th></th>\n",
       "      <th>Unnamed: 0</th>\n",
       "      <th>price</th>\n",
       "      <th>Address</th>\n",
       "      <th>area</th>\n",
       "      <th>latitude</th>\n",
       "      <th>longitude</th>\n",
       "      <th>Bedrooms</th>\n",
       "      <th>Bathrooms</th>\n",
       "      <th>Balcony</th>\n",
       "      <th>Status</th>\n",
       "      <th>neworold</th>\n",
       "      <th>parking</th>\n",
       "      <th>Furnished_status</th>\n",
       "      <th>Lift</th>\n",
       "      <th>Landmarks</th>\n",
       "      <th>type_of_building</th>\n",
       "      <th>desc</th>\n",
       "      <th>Price_sqft</th>\n",
       "    </tr>\n",
       "  </thead>\n",
       "  <tbody>\n",
       "    <tr>\n",
       "      <th>0</th>\n",
       "      <td>0</td>\n",
       "      <td>5600000.0</td>\n",
       "      <td>Noida Extension, Noida, Delhi NCR</td>\n",
       "      <td>1350.0</td>\n",
       "      <td>28.608850</td>\n",
       "      <td>77.460560</td>\n",
       "      <td>3.0</td>\n",
       "      <td>3.0</td>\n",
       "      <td>NaN</td>\n",
       "      <td>Under Construction</td>\n",
       "      <td>New Property</td>\n",
       "      <td>NaN</td>\n",
       "      <td>NaN</td>\n",
       "      <td>2.0</td>\n",
       "      <td>NaN</td>\n",
       "      <td>Flat</td>\n",
       "      <td>\\n\\n\\n                                Welcome ...</td>\n",
       "      <td>4148.148148</td>\n",
       "    </tr>\n",
       "    <tr>\n",
       "      <th>1</th>\n",
       "      <td>1</td>\n",
       "      <td>8800000.0</td>\n",
       "      <td>Sector 79, Gurgaon, Delhi NCR</td>\n",
       "      <td>1490.0</td>\n",
       "      <td>28.374236</td>\n",
       "      <td>76.952416</td>\n",
       "      <td>3.0</td>\n",
       "      <td>3.0</td>\n",
       "      <td>NaN</td>\n",
       "      <td>Ready to Move</td>\n",
       "      <td>New Property</td>\n",
       "      <td>NaN</td>\n",
       "      <td>Semi-Furnished</td>\n",
       "      <td>2.0</td>\n",
       "      <td>NaN</td>\n",
       "      <td>Flat</td>\n",
       "      <td>\\n\\n\\n                                Mapsko M...</td>\n",
       "      <td>5906.040268</td>\n",
       "    </tr>\n",
       "    <tr>\n",
       "      <th>2</th>\n",
       "      <td>2</td>\n",
       "      <td>16500000.0</td>\n",
       "      <td>Vaishali, Ghaziabad, Delhi NCR</td>\n",
       "      <td>2385.0</td>\n",
       "      <td>28.645769</td>\n",
       "      <td>77.385110</td>\n",
       "      <td>4.0</td>\n",
       "      <td>5.0</td>\n",
       "      <td>NaN</td>\n",
       "      <td>Ready to Move</td>\n",
       "      <td>New Property</td>\n",
       "      <td>1.0</td>\n",
       "      <td>Unfurnished</td>\n",
       "      <td>NaN</td>\n",
       "      <td>NaN</td>\n",
       "      <td>Flat</td>\n",
       "      <td>\\n\\n\\n                                This pro...</td>\n",
       "      <td>6918.238994</td>\n",
       "    </tr>\n",
       "    <tr>\n",
       "      <th>3</th>\n",
       "      <td>3</td>\n",
       "      <td>3810000.0</td>\n",
       "      <td>Link Road, F Block, Sector 50, Noida, Uttar Pr...</td>\n",
       "      <td>1050.0</td>\n",
       "      <td>28.566914</td>\n",
       "      <td>77.436434</td>\n",
       "      <td>2.0</td>\n",
       "      <td>2.0</td>\n",
       "      <td>3.0</td>\n",
       "      <td>NaN</td>\n",
       "      <td>New Property</td>\n",
       "      <td>1.0</td>\n",
       "      <td>Unfurnished</td>\n",
       "      <td>2.0</td>\n",
       "      <td>near Gaur Mulberry Mansion</td>\n",
       "      <td>Flat</td>\n",
       "      <td>\\n\\n\\n                                AIG Roya...</td>\n",
       "      <td>3628.571429</td>\n",
       "    </tr>\n",
       "    <tr>\n",
       "      <th>4</th>\n",
       "      <td>4</td>\n",
       "      <td>6200000.0</td>\n",
       "      <td>Jaypee Pavilion Court Sector 128, Noida, Secto...</td>\n",
       "      <td>1350.0</td>\n",
       "      <td>28.520732</td>\n",
       "      <td>77.356491</td>\n",
       "      <td>2.0</td>\n",
       "      <td>2.0</td>\n",
       "      <td>3.0</td>\n",
       "      <td>Ready to Move</td>\n",
       "      <td>Resale</td>\n",
       "      <td>1.0</td>\n",
       "      <td>NaN</td>\n",
       "      <td>3.0</td>\n",
       "      <td>NaN</td>\n",
       "      <td>Flat</td>\n",
       "      <td>\\n\\n\\n                                The prop...</td>\n",
       "      <td>4592.592593</td>\n",
       "    </tr>\n",
       "  </tbody>\n",
       "</table>\n",
       "</div>"
      ],
      "text/plain": [
       "   Unnamed: 0       price                                            Address  \\\n",
       "0           0   5600000.0                  Noida Extension, Noida, Delhi NCR   \n",
       "1           1   8800000.0                      Sector 79, Gurgaon, Delhi NCR   \n",
       "2           2  16500000.0                     Vaishali, Ghaziabad, Delhi NCR   \n",
       "3           3   3810000.0  Link Road, F Block, Sector 50, Noida, Uttar Pr...   \n",
       "4           4   6200000.0  Jaypee Pavilion Court Sector 128, Noida, Secto...   \n",
       "\n",
       "     area   latitude  longitude  Bedrooms  Bathrooms  Balcony  \\\n",
       "0  1350.0  28.608850  77.460560       3.0        3.0      NaN   \n",
       "1  1490.0  28.374236  76.952416       3.0        3.0      NaN   \n",
       "2  2385.0  28.645769  77.385110       4.0        5.0      NaN   \n",
       "3  1050.0  28.566914  77.436434       2.0        2.0      3.0   \n",
       "4  1350.0  28.520732  77.356491       2.0        2.0      3.0   \n",
       "\n",
       "               Status      neworold  parking Furnished_status  Lift  \\\n",
       "0  Under Construction  New Property      NaN              NaN   2.0   \n",
       "1       Ready to Move  New Property      NaN   Semi-Furnished   2.0   \n",
       "2       Ready to Move  New Property      1.0      Unfurnished   NaN   \n",
       "3                 NaN  New Property      1.0      Unfurnished   2.0   \n",
       "4       Ready to Move        Resale      1.0              NaN   3.0   \n",
       "\n",
       "                    Landmarks type_of_building  \\\n",
       "0                         NaN             Flat   \n",
       "1                         NaN             Flat   \n",
       "2                         NaN             Flat   \n",
       "3  near Gaur Mulberry Mansion             Flat   \n",
       "4                         NaN             Flat   \n",
       "\n",
       "                                                desc   Price_sqft  \n",
       "0  \\n\\n\\n                                Welcome ...  4148.148148  \n",
       "1  \\n\\n\\n                                Mapsko M...  5906.040268  \n",
       "2  \\n\\n\\n                                This pro...  6918.238994  \n",
       "3  \\n\\n\\n                                AIG Roya...  3628.571429  \n",
       "4  \\n\\n\\n                                The prop...  4592.592593  "
      ]
     },
     "execution_count": 5,
     "metadata": {},
     "output_type": "execute_result"
    }
   ],
   "source": [
    "df=pd.read_csv(\"Delhi_v2.csv\")\n",
    "df.head()"
   ]
  },
  {
   "cell_type": "code",
   "execution_count": 6,
   "metadata": {
    "colab": {
     "base_uri": "https://localhost:8080/"
    },
    "id": "CZdTQK6FX4yt",
    "outputId": "886cfabb-5a38-4da7-b3fd-afa69c51d02f"
   },
   "outputs": [
    {
     "name": "stdout",
     "output_type": "stream",
     "text": [
      "<class 'pandas.core.frame.DataFrame'>\n",
      "RangeIndex: 7738 entries, 0 to 7737\n",
      "Data columns (total 18 columns):\n",
      " #   Column            Non-Null Count  Dtype  \n",
      "---  ------            --------------  -----  \n",
      " 0   Unnamed: 0        7738 non-null   int64  \n",
      " 1   price             7738 non-null   float64\n",
      " 2   Address           7738 non-null   object \n",
      " 3   area              7738 non-null   float64\n",
      " 4   latitude          7738 non-null   float64\n",
      " 5   longitude         7738 non-null   float64\n",
      " 6   Bedrooms          7738 non-null   float64\n",
      " 7   Bathrooms         7738 non-null   float64\n",
      " 8   Balcony           5166 non-null   float64\n",
      " 9   Status            7164 non-null   object \n",
      " 10  neworold          7738 non-null   object \n",
      " 11  parking           2612 non-null   float64\n",
      " 12  Furnished_status  4124 non-null   object \n",
      " 13  Lift              1733 non-null   float64\n",
      " 14  Landmarks         2759 non-null   object \n",
      " 15  type_of_building  7738 non-null   object \n",
      " 16  desc              7738 non-null   object \n",
      " 17  Price_sqft        7738 non-null   float64\n",
      "dtypes: float64(10), int64(1), object(7)\n",
      "memory usage: 1.1+ MB\n"
     ]
    }
   ],
   "source": [
    "df.info()"
   ]
  },
  {
   "cell_type": "code",
   "execution_count": 7,
   "metadata": {
    "colab": {
     "base_uri": "https://localhost:8080/",
     "height": 320
    },
    "id": "aqm4gWk3YA1Q",
    "outputId": "3f14f1ff-c598-46b9-82f2-12fc3e045b57"
   },
   "outputs": [
    {
     "data": {
      "text/html": [
       "<div>\n",
       "<style scoped>\n",
       "    .dataframe tbody tr th:only-of-type {\n",
       "        vertical-align: middle;\n",
       "    }\n",
       "\n",
       "    .dataframe tbody tr th {\n",
       "        vertical-align: top;\n",
       "    }\n",
       "\n",
       "    .dataframe thead th {\n",
       "        text-align: right;\n",
       "    }\n",
       "</style>\n",
       "<table border=\"1\" class=\"dataframe\">\n",
       "  <thead>\n",
       "    <tr style=\"text-align: right;\">\n",
       "      <th></th>\n",
       "      <th>Unnamed: 0</th>\n",
       "      <th>price</th>\n",
       "      <th>area</th>\n",
       "      <th>latitude</th>\n",
       "      <th>longitude</th>\n",
       "      <th>Bedrooms</th>\n",
       "      <th>Bathrooms</th>\n",
       "      <th>Balcony</th>\n",
       "      <th>parking</th>\n",
       "      <th>Lift</th>\n",
       "      <th>Price_sqft</th>\n",
       "    </tr>\n",
       "  </thead>\n",
       "  <tbody>\n",
       "    <tr>\n",
       "      <th>count</th>\n",
       "      <td>7738.000000</td>\n",
       "      <td>7.738000e+03</td>\n",
       "      <td>7738.000000</td>\n",
       "      <td>7738.000000</td>\n",
       "      <td>7738.000000</td>\n",
       "      <td>7738.000000</td>\n",
       "      <td>7738.000000</td>\n",
       "      <td>5166.000000</td>\n",
       "      <td>2612.000000</td>\n",
       "      <td>1733.000000</td>\n",
       "      <td>7738.000000</td>\n",
       "    </tr>\n",
       "    <tr>\n",
       "      <th>mean</th>\n",
       "      <td>3868.500000</td>\n",
       "      <td>8.320635e+06</td>\n",
       "      <td>1409.506591</td>\n",
       "      <td>28.552092</td>\n",
       "      <td>77.273476</td>\n",
       "      <td>2.708193</td>\n",
       "      <td>2.501163</td>\n",
       "      <td>2.426442</td>\n",
       "      <td>7.673047</td>\n",
       "      <td>1.829198</td>\n",
       "      <td>5543.660241</td>\n",
       "    </tr>\n",
       "    <tr>\n",
       "      <th>std</th>\n",
       "      <td>2233.912524</td>\n",
       "      <td>7.223197e+06</td>\n",
       "      <td>718.929581</td>\n",
       "      <td>0.107420</td>\n",
       "      <td>0.180606</td>\n",
       "      <td>0.877026</td>\n",
       "      <td>0.867050</td>\n",
       "      <td>1.083677</td>\n",
       "      <td>60.417508</td>\n",
       "      <td>1.192607</td>\n",
       "      <td>2408.659307</td>\n",
       "    </tr>\n",
       "    <tr>\n",
       "      <th>min</th>\n",
       "      <td>0.000000</td>\n",
       "      <td>1.700000e+06</td>\n",
       "      <td>501.000000</td>\n",
       "      <td>28.240023</td>\n",
       "      <td>76.884101</td>\n",
       "      <td>2.000000</td>\n",
       "      <td>2.000000</td>\n",
       "      <td>1.000000</td>\n",
       "      <td>1.000000</td>\n",
       "      <td>0.000000</td>\n",
       "      <td>2100.000000</td>\n",
       "    </tr>\n",
       "    <tr>\n",
       "      <th>25%</th>\n",
       "      <td>1934.250000</td>\n",
       "      <td>4.200000e+06</td>\n",
       "      <td>990.000000</td>\n",
       "      <td>28.455539</td>\n",
       "      <td>77.078590</td>\n",
       "      <td>2.000000</td>\n",
       "      <td>2.000000</td>\n",
       "      <td>2.000000</td>\n",
       "      <td>1.000000</td>\n",
       "      <td>1.000000</td>\n",
       "      <td>3950.986915</td>\n",
       "    </tr>\n",
       "    <tr>\n",
       "      <th>50%</th>\n",
       "      <td>3868.500000</td>\n",
       "      <td>6.000000e+06</td>\n",
       "      <td>1250.000000</td>\n",
       "      <td>28.574637</td>\n",
       "      <td>77.345320</td>\n",
       "      <td>3.000000</td>\n",
       "      <td>2.000000</td>\n",
       "      <td>2.000000</td>\n",
       "      <td>1.000000</td>\n",
       "      <td>2.000000</td>\n",
       "      <td>4972.674332</td>\n",
       "    </tr>\n",
       "    <tr>\n",
       "      <th>75%</th>\n",
       "      <td>5802.750000</td>\n",
       "      <td>9.500000e+06</td>\n",
       "      <td>1650.000000</td>\n",
       "      <td>28.642520</td>\n",
       "      <td>77.421054</td>\n",
       "      <td>3.000000</td>\n",
       "      <td>3.000000</td>\n",
       "      <td>3.000000</td>\n",
       "      <td>2.000000</td>\n",
       "      <td>2.000000</td>\n",
       "      <td>6350.638693</td>\n",
       "    </tr>\n",
       "    <tr>\n",
       "      <th>max</th>\n",
       "      <td>7737.000000</td>\n",
       "      <td>8.500000e+07</td>\n",
       "      <td>9500.000000</td>\n",
       "      <td>28.799748</td>\n",
       "      <td>77.688028</td>\n",
       "      <td>10.000000</td>\n",
       "      <td>10.000000</td>\n",
       "      <td>10.000000</td>\n",
       "      <td>1406.000000</td>\n",
       "      <td>10.000000</td>\n",
       "      <td>44378.698225</td>\n",
       "    </tr>\n",
       "  </tbody>\n",
       "</table>\n",
       "</div>"
      ],
      "text/plain": [
       "        Unnamed: 0         price         area     latitude    longitude  \\\n",
       "count  7738.000000  7.738000e+03  7738.000000  7738.000000  7738.000000   \n",
       "mean   3868.500000  8.320635e+06  1409.506591    28.552092    77.273476   \n",
       "std    2233.912524  7.223197e+06   718.929581     0.107420     0.180606   \n",
       "min       0.000000  1.700000e+06   501.000000    28.240023    76.884101   \n",
       "25%    1934.250000  4.200000e+06   990.000000    28.455539    77.078590   \n",
       "50%    3868.500000  6.000000e+06  1250.000000    28.574637    77.345320   \n",
       "75%    5802.750000  9.500000e+06  1650.000000    28.642520    77.421054   \n",
       "max    7737.000000  8.500000e+07  9500.000000    28.799748    77.688028   \n",
       "\n",
       "          Bedrooms    Bathrooms      Balcony      parking         Lift  \\\n",
       "count  7738.000000  7738.000000  5166.000000  2612.000000  1733.000000   \n",
       "mean      2.708193     2.501163     2.426442     7.673047     1.829198   \n",
       "std       0.877026     0.867050     1.083677    60.417508     1.192607   \n",
       "min       2.000000     2.000000     1.000000     1.000000     0.000000   \n",
       "25%       2.000000     2.000000     2.000000     1.000000     1.000000   \n",
       "50%       3.000000     2.000000     2.000000     1.000000     2.000000   \n",
       "75%       3.000000     3.000000     3.000000     2.000000     2.000000   \n",
       "max      10.000000    10.000000    10.000000  1406.000000    10.000000   \n",
       "\n",
       "         Price_sqft  \n",
       "count   7738.000000  \n",
       "mean    5543.660241  \n",
       "std     2408.659307  \n",
       "min     2100.000000  \n",
       "25%     3950.986915  \n",
       "50%     4972.674332  \n",
       "75%     6350.638693  \n",
       "max    44378.698225  "
      ]
     },
     "execution_count": 7,
     "metadata": {},
     "output_type": "execute_result"
    }
   ],
   "source": [
    "df.describe()"
   ]
  },
  {
   "cell_type": "code",
   "execution_count": 8,
   "metadata": {
    "colab": {
     "base_uri": "https://localhost:8080/",
     "height": 648
    },
    "id": "Kda8kw4xYryZ",
    "outputId": "6e085338-9d0e-457d-c47d-55d68d0caaf4"
   },
   "outputs": [
    {
     "data": {
      "text/plain": [
       "Unnamed: 0          7738\n",
       "price                584\n",
       "Address             4145\n",
       "area                1102\n",
       "latitude            2942\n",
       "longitude           2912\n",
       "Bedrooms               9\n",
       "Bathrooms              9\n",
       "Balcony               10\n",
       "Status                 2\n",
       "neworold               2\n",
       "parking               65\n",
       "Furnished_status       3\n",
       "Lift                  11\n",
       "Landmarks           2612\n",
       "type_of_building       2\n",
       "desc                4181\n",
       "Price_sqft          3946\n",
       "dtype: int64"
      ]
     },
     "execution_count": 8,
     "metadata": {},
     "output_type": "execute_result"
    }
   ],
   "source": [
    "df.nunique()"
   ]
  },
  {
   "cell_type": "code",
   "execution_count": 9,
   "metadata": {},
   "outputs": [
    {
     "data": {
      "text/html": [
       "<div>\n",
       "<style scoped>\n",
       "    .dataframe tbody tr th:only-of-type {\n",
       "        vertical-align: middle;\n",
       "    }\n",
       "\n",
       "    .dataframe tbody tr th {\n",
       "        vertical-align: top;\n",
       "    }\n",
       "\n",
       "    .dataframe thead th {\n",
       "        text-align: right;\n",
       "    }\n",
       "</style>\n",
       "<table border=\"1\" class=\"dataframe\">\n",
       "  <thead>\n",
       "    <tr style=\"text-align: right;\">\n",
       "      <th></th>\n",
       "      <th>Unnamed: 0</th>\n",
       "      <th>price</th>\n",
       "      <th>area</th>\n",
       "      <th>latitude</th>\n",
       "      <th>longitude</th>\n",
       "      <th>Bedrooms</th>\n",
       "      <th>Bathrooms</th>\n",
       "      <th>Balcony</th>\n",
       "      <th>parking</th>\n",
       "      <th>Lift</th>\n",
       "      <th>Price_sqft</th>\n",
       "    </tr>\n",
       "  </thead>\n",
       "  <tbody>\n",
       "    <tr>\n",
       "      <th>Unnamed: 0</th>\n",
       "      <td>1.000000</td>\n",
       "      <td>0.022589</td>\n",
       "      <td>0.002100</td>\n",
       "      <td>-0.030258</td>\n",
       "      <td>0.008796</td>\n",
       "      <td>-0.004658</td>\n",
       "      <td>0.008812</td>\n",
       "      <td>0.047535</td>\n",
       "      <td>-0.019743</td>\n",
       "      <td>0.006369</td>\n",
       "      <td>0.036812</td>\n",
       "    </tr>\n",
       "    <tr>\n",
       "      <th>price</th>\n",
       "      <td>0.022589</td>\n",
       "      <td>1.000000</td>\n",
       "      <td>0.849073</td>\n",
       "      <td>-0.227517</td>\n",
       "      <td>-0.331883</td>\n",
       "      <td>0.606914</td>\n",
       "      <td>0.691990</td>\n",
       "      <td>0.255096</td>\n",
       "      <td>-0.041640</td>\n",
       "      <td>0.037892</td>\n",
       "      <td>0.682768</td>\n",
       "    </tr>\n",
       "    <tr>\n",
       "      <th>area</th>\n",
       "      <td>0.002100</td>\n",
       "      <td>0.849073</td>\n",
       "      <td>1.000000</td>\n",
       "      <td>-0.279069</td>\n",
       "      <td>-0.184427</td>\n",
       "      <td>0.683479</td>\n",
       "      <td>0.763650</td>\n",
       "      <td>0.420476</td>\n",
       "      <td>-0.036780</td>\n",
       "      <td>0.128409</td>\n",
       "      <td>0.292711</td>\n",
       "    </tr>\n",
       "    <tr>\n",
       "      <th>latitude</th>\n",
       "      <td>-0.030258</td>\n",
       "      <td>-0.227517</td>\n",
       "      <td>-0.279069</td>\n",
       "      <td>1.000000</td>\n",
       "      <td>0.401701</td>\n",
       "      <td>-0.140817</td>\n",
       "      <td>-0.246663</td>\n",
       "      <td>-0.199374</td>\n",
       "      <td>-0.053874</td>\n",
       "      <td>-0.094808</td>\n",
       "      <td>-0.098981</td>\n",
       "    </tr>\n",
       "    <tr>\n",
       "      <th>longitude</th>\n",
       "      <td>0.008796</td>\n",
       "      <td>-0.331883</td>\n",
       "      <td>-0.184427</td>\n",
       "      <td>0.401701</td>\n",
       "      <td>1.000000</td>\n",
       "      <td>-0.166826</td>\n",
       "      <td>-0.205187</td>\n",
       "      <td>0.090932</td>\n",
       "      <td>0.019576</td>\n",
       "      <td>0.139778</td>\n",
       "      <td>-0.451146</td>\n",
       "    </tr>\n",
       "    <tr>\n",
       "      <th>Bedrooms</th>\n",
       "      <td>-0.004658</td>\n",
       "      <td>0.606914</td>\n",
       "      <td>0.683479</td>\n",
       "      <td>-0.140817</td>\n",
       "      <td>-0.166826</td>\n",
       "      <td>1.000000</td>\n",
       "      <td>0.765479</td>\n",
       "      <td>0.283880</td>\n",
       "      <td>-0.037920</td>\n",
       "      <td>-0.048828</td>\n",
       "      <td>0.348992</td>\n",
       "    </tr>\n",
       "    <tr>\n",
       "      <th>Bathrooms</th>\n",
       "      <td>0.008812</td>\n",
       "      <td>0.691990</td>\n",
       "      <td>0.763650</td>\n",
       "      <td>-0.246663</td>\n",
       "      <td>-0.205187</td>\n",
       "      <td>0.765479</td>\n",
       "      <td>1.000000</td>\n",
       "      <td>0.361291</td>\n",
       "      <td>-0.043036</td>\n",
       "      <td>0.068791</td>\n",
       "      <td>0.356413</td>\n",
       "    </tr>\n",
       "    <tr>\n",
       "      <th>Balcony</th>\n",
       "      <td>0.047535</td>\n",
       "      <td>0.255096</td>\n",
       "      <td>0.420476</td>\n",
       "      <td>-0.199374</td>\n",
       "      <td>0.090932</td>\n",
       "      <td>0.283880</td>\n",
       "      <td>0.361291</td>\n",
       "      <td>1.000000</td>\n",
       "      <td>0.000870</td>\n",
       "      <td>0.331883</td>\n",
       "      <td>-0.012863</td>\n",
       "    </tr>\n",
       "    <tr>\n",
       "      <th>parking</th>\n",
       "      <td>-0.019743</td>\n",
       "      <td>-0.041640</td>\n",
       "      <td>-0.036780</td>\n",
       "      <td>-0.053874</td>\n",
       "      <td>0.019576</td>\n",
       "      <td>-0.037920</td>\n",
       "      <td>-0.043036</td>\n",
       "      <td>0.000870</td>\n",
       "      <td>1.000000</td>\n",
       "      <td>0.037927</td>\n",
       "      <td>-0.045357</td>\n",
       "    </tr>\n",
       "    <tr>\n",
       "      <th>Lift</th>\n",
       "      <td>0.006369</td>\n",
       "      <td>0.037892</td>\n",
       "      <td>0.128409</td>\n",
       "      <td>-0.094808</td>\n",
       "      <td>0.139778</td>\n",
       "      <td>-0.048828</td>\n",
       "      <td>0.068791</td>\n",
       "      <td>0.331883</td>\n",
       "      <td>0.037927</td>\n",
       "      <td>1.000000</td>\n",
       "      <td>-0.133483</td>\n",
       "    </tr>\n",
       "    <tr>\n",
       "      <th>Price_sqft</th>\n",
       "      <td>0.036812</td>\n",
       "      <td>0.682768</td>\n",
       "      <td>0.292711</td>\n",
       "      <td>-0.098981</td>\n",
       "      <td>-0.451146</td>\n",
       "      <td>0.348992</td>\n",
       "      <td>0.356413</td>\n",
       "      <td>-0.012863</td>\n",
       "      <td>-0.045357</td>\n",
       "      <td>-0.133483</td>\n",
       "      <td>1.000000</td>\n",
       "    </tr>\n",
       "  </tbody>\n",
       "</table>\n",
       "</div>"
      ],
      "text/plain": [
       "            Unnamed: 0     price      area  latitude  longitude  Bedrooms  \\\n",
       "Unnamed: 0    1.000000  0.022589  0.002100 -0.030258   0.008796 -0.004658   \n",
       "price         0.022589  1.000000  0.849073 -0.227517  -0.331883  0.606914   \n",
       "area          0.002100  0.849073  1.000000 -0.279069  -0.184427  0.683479   \n",
       "latitude     -0.030258 -0.227517 -0.279069  1.000000   0.401701 -0.140817   \n",
       "longitude     0.008796 -0.331883 -0.184427  0.401701   1.000000 -0.166826   \n",
       "Bedrooms     -0.004658  0.606914  0.683479 -0.140817  -0.166826  1.000000   \n",
       "Bathrooms     0.008812  0.691990  0.763650 -0.246663  -0.205187  0.765479   \n",
       "Balcony       0.047535  0.255096  0.420476 -0.199374   0.090932  0.283880   \n",
       "parking      -0.019743 -0.041640 -0.036780 -0.053874   0.019576 -0.037920   \n",
       "Lift          0.006369  0.037892  0.128409 -0.094808   0.139778 -0.048828   \n",
       "Price_sqft    0.036812  0.682768  0.292711 -0.098981  -0.451146  0.348992   \n",
       "\n",
       "            Bathrooms   Balcony   parking      Lift  Price_sqft  \n",
       "Unnamed: 0   0.008812  0.047535 -0.019743  0.006369    0.036812  \n",
       "price        0.691990  0.255096 -0.041640  0.037892    0.682768  \n",
       "area         0.763650  0.420476 -0.036780  0.128409    0.292711  \n",
       "latitude    -0.246663 -0.199374 -0.053874 -0.094808   -0.098981  \n",
       "longitude   -0.205187  0.090932  0.019576  0.139778   -0.451146  \n",
       "Bedrooms     0.765479  0.283880 -0.037920 -0.048828    0.348992  \n",
       "Bathrooms    1.000000  0.361291 -0.043036  0.068791    0.356413  \n",
       "Balcony      0.361291  1.000000  0.000870  0.331883   -0.012863  \n",
       "parking     -0.043036  0.000870  1.000000  0.037927   -0.045357  \n",
       "Lift         0.068791  0.331883  0.037927  1.000000   -0.133483  \n",
       "Price_sqft   0.356413 -0.012863 -0.045357 -0.133483    1.000000  "
      ]
     },
     "execution_count": 9,
     "metadata": {},
     "output_type": "execute_result"
    }
   ],
   "source": [
    "df.corr(numeric_only=True)"
   ]
  },
  {
   "cell_type": "code",
   "execution_count": 10,
   "metadata": {
    "colab": {
     "base_uri": "https://localhost:8080/"
    },
    "id": "CaKgVogadzK8",
    "outputId": "15e92f9b-7af8-4a17-e082-41d5c9b43381"
   },
   "outputs": [
    {
     "name": "stdout",
     "output_type": "stream",
     "text": [
      "<class 'pandas.core.frame.DataFrame'>\n",
      "RangeIndex: 7738 entries, 0 to 7737\n",
      "Data columns (total 13 columns):\n",
      " #   Column            Non-Null Count  Dtype  \n",
      "---  ------            --------------  -----  \n",
      " 0   area              7738 non-null   float64\n",
      " 1   latitude          7738 non-null   float64\n",
      " 2   longitude         7738 non-null   float64\n",
      " 3   Bedrooms          7738 non-null   float64\n",
      " 4   Bathrooms         7738 non-null   float64\n",
      " 5   Balcony           5166 non-null   float64\n",
      " 6   Status            7164 non-null   object \n",
      " 7   neworold          7738 non-null   object \n",
      " 8   parking           2612 non-null   float64\n",
      " 9   Furnished_status  4124 non-null   object \n",
      " 10  Lift              1733 non-null   float64\n",
      " 11  type_of_building  7738 non-null   object \n",
      " 12  Price_sqft        7738 non-null   float64\n",
      "dtypes: float64(9), object(4)\n",
      "memory usage: 786.0+ KB\n"
     ]
    }
   ],
   "source": [
    "dff=df.drop([\"Address\",\"Landmarks\",\"price\",\"Unnamed: 0\",\"desc\"],axis=1)\n",
    "dff.info()"
   ]
  },
  {
   "cell_type": "code",
   "execution_count": 11,
   "metadata": {
    "id": "CfOUUViOzXOf"
   },
   "outputs": [
    {
     "data": {
      "image/png": "[encoded data removed]",
      "text/plain": [
       "<Figure size 640x480 with 1 Axes>"
      ]
     },
     "metadata": {},
     "output_type": "display_data"
    },
    {
     "data": {
      "text/html": [
       "<div>\n",
       "<style scoped>\n",
       "    .dataframe tbody tr th:only-of-type {\n",
       "        vertical-align: middle;\n",
       "    }\n",
       "\n",
       "    .dataframe tbody tr th {\n",
       "        vertical-align: top;\n",
       "    }\n",
       "\n",
       "    .dataframe thead th {\n",
       "        text-align: right;\n",
       "    }\n",
       "</style>\n",
       "<table border=\"1\" class=\"dataframe\">\n",
       "  <thead>\n",
       "    <tr style=\"text-align: right;\">\n",
       "      <th></th>\n",
       "      <th>Price_sqft</th>\n",
       "    </tr>\n",
       "  </thead>\n",
       "  <tbody>\n",
       "    <tr>\n",
       "      <th>count</th>\n",
       "      <td>7738.000000</td>\n",
       "    </tr>\n",
       "    <tr>\n",
       "      <th>mean</th>\n",
       "      <td>5543.660241</td>\n",
       "    </tr>\n",
       "    <tr>\n",
       "      <th>std</th>\n",
       "      <td>2408.659307</td>\n",
       "    </tr>\n",
       "    <tr>\n",
       "      <th>min</th>\n",
       "      <td>2100.000000</td>\n",
       "    </tr>\n",
       "    <tr>\n",
       "      <th>25%</th>\n",
       "      <td>3950.986915</td>\n",
       "    </tr>\n",
       "    <tr>\n",
       "      <th>50%</th>\n",
       "      <td>4972.674332</td>\n",
       "    </tr>\n",
       "    <tr>\n",
       "      <th>75%</th>\n",
       "      <td>6350.638693</td>\n",
       "    </tr>\n",
       "    <tr>\n",
       "      <th>max</th>\n",
       "      <td>44378.698225</td>\n",
       "    </tr>\n",
       "  </tbody>\n",
       "</table>\n",
       "</div>"
      ],
      "text/plain": [
       "         Price_sqft\n",
       "count   7738.000000\n",
       "mean    5543.660241\n",
       "std     2408.659307\n",
       "min     2100.000000\n",
       "25%     3950.986915\n",
       "50%     4972.674332\n",
       "75%     6350.638693\n",
       "max    44378.698225"
      ]
     },
     "execution_count": 11,
     "metadata": {},
     "output_type": "execute_result"
    }
   ],
   "source": [
    "sns.histplot(data=dff,x=\"Price_sqft\",color=\"b\")\n",
    "plt.xlabel(\"Price_sqft\")\n",
    "plt.ylabel(\"Count (Clients)\")\n",
    "plt.title(\"Price_sqft\")\n",
    "plt.show()\n",
    "pd.DataFrame(dff[\"Price_sqft\"].describe())"
   ]
  },
  {
   "cell_type": "code",
   "execution_count": 12,
   "metadata": {},
   "outputs": [
    {
     "data": {
      "text/plain": [
       "10000.0"
      ]
     },
     "execution_count": 12,
     "metadata": {},
     "output_type": "execute_result"
    }
   ],
   "source": [
    "out=dff[\"Price_sqft\"].quantile(0.95)\n",
    "out"
   ]
  },
  {
   "cell_type": "markdown",
   "metadata": {},
   "source": [
    "Removing the outliers"
   ]
  },
  {
   "cell_type": "code",
   "execution_count": 13,
   "metadata": {},
   "outputs": [
    {
     "data": {
      "text/plain": [
       "(7360, 13)"
      ]
     },
     "execution_count": 13,
     "metadata": {},
     "output_type": "execute_result"
    }
   ],
   "source": [
    "datf=dff[dff[\"Price_sqft\"]<=out]\n",
    "datf.reset_index(inplace=True,drop=True)\n",
    "datf.shape"
   ]
  },
  {
   "cell_type": "code",
   "execution_count": 14,
   "metadata": {},
   "outputs": [
    {
     "data": {
      "text/html": [
       "<div>\n",
       "<style scoped>\n",
       "    .dataframe tbody tr th:only-of-type {\n",
       "        vertical-align: middle;\n",
       "    }\n",
       "\n",
       "    .dataframe tbody tr th {\n",
       "        vertical-align: top;\n",
       "    }\n",
       "\n",
       "    .dataframe thead th {\n",
       "        text-align: right;\n",
       "    }\n",
       "</style>\n",
       "<table border=\"1\" class=\"dataframe\">\n",
       "  <thead>\n",
       "    <tr style=\"text-align: right;\">\n",
       "      <th></th>\n",
       "      <th>area</th>\n",
       "      <th>latitude</th>\n",
       "      <th>longitude</th>\n",
       "      <th>Bedrooms</th>\n",
       "      <th>Bathrooms</th>\n",
       "      <th>Balcony</th>\n",
       "      <th>Status</th>\n",
       "      <th>neworold</th>\n",
       "      <th>parking</th>\n",
       "      <th>Furnished_status</th>\n",
       "      <th>Lift</th>\n",
       "      <th>type_of_building</th>\n",
       "      <th>Price_sqft</th>\n",
       "    </tr>\n",
       "  </thead>\n",
       "  <tbody>\n",
       "    <tr>\n",
       "      <th>0</th>\n",
       "      <td>1350.0</td>\n",
       "      <td>28.608850</td>\n",
       "      <td>77.460560</td>\n",
       "      <td>3.0</td>\n",
       "      <td>3.0</td>\n",
       "      <td>NaN</td>\n",
       "      <td>Under Construction</td>\n",
       "      <td>New Property</td>\n",
       "      <td>NaN</td>\n",
       "      <td>NaN</td>\n",
       "      <td>2.0</td>\n",
       "      <td>Flat</td>\n",
       "      <td>4148.148148</td>\n",
       "    </tr>\n",
       "    <tr>\n",
       "      <th>1</th>\n",
       "      <td>1490.0</td>\n",
       "      <td>28.374236</td>\n",
       "      <td>76.952416</td>\n",
       "      <td>3.0</td>\n",
       "      <td>3.0</td>\n",
       "      <td>NaN</td>\n",
       "      <td>Ready to Move</td>\n",
       "      <td>New Property</td>\n",
       "      <td>NaN</td>\n",
       "      <td>Semi-Furnished</td>\n",
       "      <td>2.0</td>\n",
       "      <td>Flat</td>\n",
       "      <td>5906.040268</td>\n",
       "    </tr>\n",
       "    <tr>\n",
       "      <th>2</th>\n",
       "      <td>2385.0</td>\n",
       "      <td>28.645769</td>\n",
       "      <td>77.385110</td>\n",
       "      <td>4.0</td>\n",
       "      <td>5.0</td>\n",
       "      <td>NaN</td>\n",
       "      <td>Ready to Move</td>\n",
       "      <td>New Property</td>\n",
       "      <td>1.0</td>\n",
       "      <td>Unfurnished</td>\n",
       "      <td>NaN</td>\n",
       "      <td>Flat</td>\n",
       "      <td>6918.238994</td>\n",
       "    </tr>\n",
       "    <tr>\n",
       "      <th>3</th>\n",
       "      <td>1050.0</td>\n",
       "      <td>28.566914</td>\n",
       "      <td>77.436434</td>\n",
       "      <td>2.0</td>\n",
       "      <td>2.0</td>\n",
       "      <td>3.0</td>\n",
       "      <td>NaN</td>\n",
       "      <td>New Property</td>\n",
       "      <td>1.0</td>\n",
       "      <td>Unfurnished</td>\n",
       "      <td>2.0</td>\n",
       "      <td>Flat</td>\n",
       "      <td>3628.571429</td>\n",
       "    </tr>\n",
       "    <tr>\n",
       "      <th>4</th>\n",
       "      <td>1350.0</td>\n",
       "      <td>28.520732</td>\n",
       "      <td>77.356491</td>\n",
       "      <td>2.0</td>\n",
       "      <td>2.0</td>\n",
       "      <td>3.0</td>\n",
       "      <td>Ready to Move</td>\n",
       "      <td>Resale</td>\n",
       "      <td>1.0</td>\n",
       "      <td>NaN</td>\n",
       "      <td>3.0</td>\n",
       "      <td>Flat</td>\n",
       "      <td>4592.592593</td>\n",
       "    </tr>\n",
       "  </tbody>\n",
       "</table>\n",
       "</div>"
      ],
      "text/plain": [
       "     area   latitude  longitude  Bedrooms  Bathrooms  Balcony  \\\n",
       "0  1350.0  28.608850  77.460560       3.0        3.0      NaN   \n",
       "1  1490.0  28.374236  76.952416       3.0        3.0      NaN   \n",
       "2  2385.0  28.645769  77.385110       4.0        5.0      NaN   \n",
       "3  1050.0  28.566914  77.436434       2.0        2.0      3.0   \n",
       "4  1350.0  28.520732  77.356491       2.0        2.0      3.0   \n",
       "\n",
       "               Status      neworold  parking Furnished_status  Lift  \\\n",
       "0  Under Construction  New Property      NaN              NaN   2.0   \n",
       "1       Ready to Move  New Property      NaN   Semi-Furnished   2.0   \n",
       "2       Ready to Move  New Property      1.0      Unfurnished   NaN   \n",
       "3                 NaN  New Property      1.0      Unfurnished   2.0   \n",
       "4       Ready to Move        Resale      1.0              NaN   3.0   \n",
       "\n",
       "  type_of_building   Price_sqft  \n",
       "0             Flat  4148.148148  \n",
       "1             Flat  5906.040268  \n",
       "2             Flat  6918.238994  \n",
       "3             Flat  3628.571429  \n",
       "4             Flat  4592.592593  "
      ]
     },
     "execution_count": 14,
     "metadata": {},
     "output_type": "execute_result"
    }
   ],
   "source": [
    "datf.head()"
   ]
  },
  {
   "cell_type": "markdown",
   "metadata": {},
   "source": [
    "Replacing missing values"
   ]
  },
  {
   "cell_type": "code",
   "execution_count": 15,
   "metadata": {
    "colab": {
     "base_uri": "https://localhost:8080/",
     "height": 680
    },
    "id": "3fcvQg_ufCpg",
    "outputId": "e8b416cd-bacf-42b8-a503-4da64c318f61"
   },
   "outputs": [
    {
     "data": {
      "image/png": "[encoded data removed]",
      "text/plain": [
       "<Figure size 640x480 with 1 Axes>"
      ]
     },
     "metadata": {},
     "output_type": "display_data"
    },
    {
     "name": "stdout",
     "output_type": "stream",
     "text": [
      "         count\n",
      "Balcony       \n",
      "2.0       1653\n",
      "3.0       1457\n",
      "1.0       1007\n",
      "4.0        588\n",
      "5.0        121\n",
      "6.0         20\n",
      "10.0         3\n",
      "7.0          3\n",
      "8.0          3\n",
      "9.0          1\n"
     ]
    }
   ],
   "source": [
    "sns.histplot(data=datf,x=\"Balcony\",color=\"b\")\n",
    "plt.xlabel(\"Balcony\")\n",
    "plt.ylabel(\"Count (Clients)\")\n",
    "plt.title(\"Balcony distribution\")\n",
    "plt.show()\n",
    "print(pd.DataFrame(datf[\"Balcony\"].value_counts()))"
   ]
  },
  {
   "cell_type": "code",
   "execution_count": 16,
   "metadata": {
    "id": "QYL4qGyVfpQu"
   },
   "outputs": [],
   "source": [
    "datf[\"Balcony\"].fillna(df[\"Balcony\"].mode().iloc[0],inplace=True)"
   ]
  },
  {
   "cell_type": "code",
   "execution_count": 17,
   "metadata": {
    "colab": {
     "base_uri": "https://localhost:8080/",
     "height": 541
    },
    "id": "tnXIrJclh2ei",
    "outputId": "8ea76ced-9a48-429a-b21c-ab2c38f491fc"
   },
   "outputs": [
    {
     "data": {
      "image/png": "[encoded data removed]",
      "text/plain": [
       "<Figure size 640x480 with 1 Axes>"
      ]
     },
     "metadata": {},
     "output_type": "display_data"
    },
    {
     "name": "stdout",
     "output_type": "stream",
     "text": [
      "                    count\n",
      "Status                   \n",
      "Ready to Move        6782\n",
      "Under Construction     14\n"
     ]
    }
   ],
   "source": [
    "sns.histplot(data=datf,x=\"Status\",color=\"b\")\n",
    "plt.xlabel(\"Status\")\n",
    "plt.ylabel(\"Count (Clients)\")\n",
    "plt.title(\"Status\")\n",
    "plt.show()\n",
    "print(pd.DataFrame(datf[\"Status\"].value_counts()))"
   ]
  },
  {
   "cell_type": "code",
   "execution_count": 18,
   "metadata": {
    "id": "Tb5OZNCPoNmd"
   },
   "outputs": [],
   "source": [
    "datf[\"Status\"].fillna(df[\"Status\"].mode().iloc[0],inplace=True)"
   ]
  },
  {
   "cell_type": "code",
   "execution_count": 19,
   "metadata": {
    "colab": {
     "base_uri": "https://localhost:8080/",
     "height": 455
    },
    "id": "qJz-le-3h7Xm",
    "outputId": "4faad824-f97b-4c4c-c007-2d01e430342c"
   },
   "outputs": [
    {
     "data": {
      "text/html": [
       "<div>\n",
       "<style scoped>\n",
       "    .dataframe tbody tr th:only-of-type {\n",
       "        vertical-align: middle;\n",
       "    }\n",
       "\n",
       "    .dataframe tbody tr th {\n",
       "        vertical-align: top;\n",
       "    }\n",
       "\n",
       "    .dataframe thead th {\n",
       "        text-align: right;\n",
       "    }\n",
       "</style>\n",
       "<table border=\"1\" class=\"dataframe\">\n",
       "  <thead>\n",
       "    <tr style=\"text-align: right;\">\n",
       "      <th></th>\n",
       "      <th>count</th>\n",
       "    </tr>\n",
       "    <tr>\n",
       "      <th>parking</th>\n",
       "      <th></th>\n",
       "    </tr>\n",
       "  </thead>\n",
       "  <tbody>\n",
       "    <tr>\n",
       "      <th>1.0</th>\n",
       "      <td>1651</td>\n",
       "    </tr>\n",
       "    <tr>\n",
       "      <th>2.0</th>\n",
       "      <td>574</td>\n",
       "    </tr>\n",
       "    <tr>\n",
       "      <th>3.0</th>\n",
       "      <td>84</td>\n",
       "    </tr>\n",
       "    <tr>\n",
       "      <th>4.0</th>\n",
       "      <td>29</td>\n",
       "    </tr>\n",
       "    <tr>\n",
       "      <th>6.0</th>\n",
       "      <td>10</td>\n",
       "    </tr>\n",
       "    <tr>\n",
       "      <th>...</th>\n",
       "      <td>...</td>\n",
       "    </tr>\n",
       "    <tr>\n",
       "      <th>18.0</th>\n",
       "      <td>1</td>\n",
       "    </tr>\n",
       "    <tr>\n",
       "      <th>602.0</th>\n",
       "      <td>1</td>\n",
       "    </tr>\n",
       "    <tr>\n",
       "      <th>16.0</th>\n",
       "      <td>1</td>\n",
       "    </tr>\n",
       "    <tr>\n",
       "      <th>624.0</th>\n",
       "      <td>1</td>\n",
       "    </tr>\n",
       "    <tr>\n",
       "      <th>179.0</th>\n",
       "      <td>1</td>\n",
       "    </tr>\n",
       "  </tbody>\n",
       "</table>\n",
       "<p>63 rows × 1 columns</p>\n",
       "</div>"
      ],
      "text/plain": [
       "         count\n",
       "parking       \n",
       "1.0       1651\n",
       "2.0        574\n",
       "3.0         84\n",
       "4.0         29\n",
       "6.0         10\n",
       "...        ...\n",
       "18.0         1\n",
       "602.0        1\n",
       "16.0         1\n",
       "624.0        1\n",
       "179.0        1\n",
       "\n",
       "[63 rows x 1 columns]"
      ]
     },
     "execution_count": 19,
     "metadata": {},
     "output_type": "execute_result"
    }
   ],
   "source": [
    "pd.DataFrame(datf[\"parking\"].value_counts())"
   ]
  },
  {
   "cell_type": "code",
   "execution_count": 20,
   "metadata": {
    "id": "yPvL0BKZijwo"
   },
   "outputs": [],
   "source": [
    "datf[\"parking\"].fillna(df[\"parking\"].mode().iloc[0],inplace=True)"
   ]
  },
  {
   "cell_type": "code",
   "execution_count": 21,
   "metadata": {
    "colab": {
     "base_uri": "https://localhost:8080/",
     "height": 559
    },
    "id": "CCNYowNpjWTG",
    "outputId": "18ffdc20-42a6-4c40-9695-43c2e2562518"
   },
   "outputs": [
    {
     "data": {
      "image/png": "[encoded data removed]",
      "text/plain": [
       "<Figure size 640x480 with 1 Axes>"
      ]
     },
     "metadata": {},
     "output_type": "display_data"
    },
    {
     "name": "stdout",
     "output_type": "stream",
     "text": [
      "                  count\n",
      "Furnished_status       \n",
      "Semi-Furnished     2055\n",
      "Unfurnished        1172\n",
      "Furnished           644\n"
     ]
    }
   ],
   "source": [
    "sns.histplot(data=datf,x=\"Furnished_status\",color=\"b\")\n",
    "plt.xlabel(\"Furnished_status\")\n",
    "plt.ylabel(\"Count (Clients)\")\n",
    "plt.title(\"Furnished_status\")\n",
    "plt.show()\n",
    "print(pd.DataFrame(datf[\"Furnished_status\"].value_counts()))"
   ]
  },
  {
   "cell_type": "code",
   "execution_count": 22,
   "metadata": {
    "id": "2wKR7KdIlF-F"
   },
   "outputs": [],
   "source": [
    "datf[\"Furnished_status\"].fillna(df[\"Furnished_status\"].mode().iloc[0],inplace=True)"
   ]
  },
  {
   "cell_type": "code",
   "execution_count": 23,
   "metadata": {
    "colab": {
     "base_uri": "https://localhost:8080/",
     "height": 698
    },
    "id": "soll6Gbrj5pL",
    "outputId": "59f35843-8f95-4789-911f-141713f119a2"
   },
   "outputs": [
    {
     "data": {
      "image/png": "[encoded data removed]",
      "text/plain": [
       "<Figure size 640x480 with 1 Axes>"
      ]
     },
     "metadata": {},
     "output_type": "display_data"
    },
    {
     "name": "stdout",
     "output_type": "stream",
     "text": [
      "      count\n",
      "Lift       \n",
      "2.0     769\n",
      "1.0     254\n",
      "3.0     245\n",
      "0.0     240\n",
      "4.0      77\n",
      "6.0       7\n",
      "5.0       6\n",
      "7.0       4\n",
      "10.0      2\n",
      "8.0       1\n",
      "9.0       1\n"
     ]
    }
   ],
   "source": [
    "sns.histplot(data=datf,x=\"Lift\",color=\"b\")\n",
    "plt.xlabel(\"Lift\")\n",
    "plt.ylabel(\"Count (Clients)\")\n",
    "plt.title(\"Lift\")\n",
    "plt.show()\n",
    "print(pd.DataFrame(datf[\"Lift\"].value_counts()))"
   ]
  },
  {
   "cell_type": "code",
   "execution_count": 24,
   "metadata": {
    "id": "-a48iiVPkMyw"
   },
   "outputs": [],
   "source": [
    "datf[\"Lift\"].fillna(df[\"Lift\"].mode().iloc[0],inplace=True)"
   ]
  },
  {
   "cell_type": "code",
   "execution_count": 25,
   "metadata": {
    "colab": {
     "base_uri": "https://localhost:8080/"
    },
    "id": "LMlGpr5sleNz",
    "outputId": "2b8f972a-22fd-4b21-cd80-3e1824e5db84"
   },
   "outputs": [
    {
     "name": "stdout",
     "output_type": "stream",
     "text": [
      "<class 'pandas.core.frame.DataFrame'>\n",
      "RangeIndex: 7360 entries, 0 to 7359\n",
      "Data columns (total 13 columns):\n",
      " #   Column            Non-Null Count  Dtype  \n",
      "---  ------            --------------  -----  \n",
      " 0   area              7360 non-null   float64\n",
      " 1   latitude          7360 non-null   float64\n",
      " 2   longitude         7360 non-null   float64\n",
      " 3   Bedrooms          7360 non-null   float64\n",
      " 4   Bathrooms         7360 non-null   float64\n",
      " 5   Balcony           7360 non-null   float64\n",
      " 6   Status            7360 non-null   object \n",
      " 7   neworold          7360 non-null   object \n",
      " 8   parking           7360 non-null   float64\n",
      " 9   Furnished_status  7360 non-null   object \n",
      " 10  Lift              7360 non-null   float64\n",
      " 11  type_of_building  7360 non-null   object \n",
      " 12  Price_sqft        7360 non-null   float64\n",
      "dtypes: float64(9), object(4)\n",
      "memory usage: 747.6+ KB\n"
     ]
    }
   ],
   "source": [
    "datf.info()"
   ]
  },
  {
   "cell_type": "code",
   "execution_count": 26,
   "metadata": {
    "colab": {
     "base_uri": "https://localhost:8080/",
     "height": 491
    },
    "id": "YGN7NwG4paUt",
    "outputId": "d80d129c-9c15-4976-8d7d-2dbbdc2c3f66"
   },
   "outputs": [
    {
     "data": {
      "text/plain": [
       "area                1057\n",
       "latitude            2719\n",
       "longitude           2694\n",
       "Bedrooms               9\n",
       "Bathrooms              9\n",
       "Balcony               10\n",
       "Status                 2\n",
       "neworold               2\n",
       "parking               63\n",
       "Furnished_status       3\n",
       "Lift                  11\n",
       "type_of_building       2\n",
       "Price_sqft          3715\n",
       "dtype: int64"
      ]
     },
     "execution_count": 26,
     "metadata": {},
     "output_type": "execute_result"
    }
   ],
   "source": [
    "datf.nunique()"
   ]
  },
  {
   "cell_type": "markdown",
   "metadata": {},
   "source": [
    "Converting the categorical entries into numerical ones"
   ]
  },
  {
   "cell_type": "code",
   "execution_count": 27,
   "metadata": {
    "colab": {
     "base_uri": "https://localhost:8080/",
     "height": 243
    },
    "id": "Y_fw0WNWqF_p",
    "outputId": "83c7de5f-ecee-47c0-aeab-4c9bf3f2bb8d"
   },
   "outputs": [],
   "source": [
    "from sklearn.preprocessing import LabelEncoder\n",
    "final_df=datf\n",
    "for column in final_df.columns:\n",
    "    if final_df[column].dtype == 'object': \n",
    "        le = LabelEncoder()\n",
    "        final_df[column] = le.fit_transform(final_df[column])"
   ]
  },
  {
   "cell_type": "code",
   "execution_count": 28,
   "metadata": {
    "scrolled": true
   },
   "outputs": [
    {
     "data": {
      "text/html": [
       "<div>\n",
       "<style scoped>\n",
       "    .dataframe tbody tr th:only-of-type {\n",
       "        vertical-align: middle;\n",
       "    }\n",
       "\n",
       "    .dataframe tbody tr th {\n",
       "        vertical-align: top;\n",
       "    }\n",
       "\n",
       "    .dataframe thead th {\n",
       "        text-align: right;\n",
       "    }\n",
       "</style>\n",
       "<table border=\"1\" class=\"dataframe\">\n",
       "  <thead>\n",
       "    <tr style=\"text-align: right;\">\n",
       "      <th></th>\n",
       "      <th>area</th>\n",
       "      <th>latitude</th>\n",
       "      <th>longitude</th>\n",
       "      <th>Bedrooms</th>\n",
       "      <th>Bathrooms</th>\n",
       "      <th>Balcony</th>\n",
       "      <th>Status</th>\n",
       "      <th>neworold</th>\n",
       "      <th>parking</th>\n",
       "      <th>Furnished_status</th>\n",
       "      <th>Lift</th>\n",
       "      <th>type_of_building</th>\n",
       "      <th>Price_sqft</th>\n",
       "    </tr>\n",
       "  </thead>\n",
       "  <tbody>\n",
       "    <tr>\n",
       "      <th>area</th>\n",
       "      <td>1.000000</td>\n",
       "      <td>-0.276648</td>\n",
       "      <td>-0.171144</td>\n",
       "      <td>0.708508</td>\n",
       "      <td>0.773638</td>\n",
       "      <td>0.361521</td>\n",
       "      <td>0.024622</td>\n",
       "      <td>-0.067268</td>\n",
       "      <td>-0.013302</td>\n",
       "      <td>-0.014781</td>\n",
       "      <td>0.043350</td>\n",
       "      <td>0.017414</td>\n",
       "      <td>0.322863</td>\n",
       "    </tr>\n",
       "    <tr>\n",
       "      <th>latitude</th>\n",
       "      <td>-0.276648</td>\n",
       "      <td>1.000000</td>\n",
       "      <td>0.422607</td>\n",
       "      <td>-0.144976</td>\n",
       "      <td>-0.248055</td>\n",
       "      <td>-0.151663</td>\n",
       "      <td>-0.005987</td>\n",
       "      <td>0.057831</td>\n",
       "      <td>-0.036681</td>\n",
       "      <td>-0.044814</td>\n",
       "      <td>-0.023581</td>\n",
       "      <td>-0.008844</td>\n",
       "      <td>-0.200779</td>\n",
       "    </tr>\n",
       "    <tr>\n",
       "      <th>longitude</th>\n",
       "      <td>-0.171144</td>\n",
       "      <td>0.422607</td>\n",
       "      <td>1.000000</td>\n",
       "      <td>-0.156850</td>\n",
       "      <td>-0.194897</td>\n",
       "      <td>0.059638</td>\n",
       "      <td>0.004647</td>\n",
       "      <td>0.097625</td>\n",
       "      <td>0.003697</td>\n",
       "      <td>-0.008245</td>\n",
       "      <td>0.077498</td>\n",
       "      <td>-0.005782</td>\n",
       "      <td>-0.543093</td>\n",
       "    </tr>\n",
       "    <tr>\n",
       "      <th>Bedrooms</th>\n",
       "      <td>0.708508</td>\n",
       "      <td>-0.144976</td>\n",
       "      <td>-0.156850</td>\n",
       "      <td>1.000000</td>\n",
       "      <td>0.753432</td>\n",
       "      <td>0.237567</td>\n",
       "      <td>0.005778</td>\n",
       "      <td>-0.042055</td>\n",
       "      <td>-0.016233</td>\n",
       "      <td>0.008842</td>\n",
       "      <td>-0.026126</td>\n",
       "      <td>0.010986</td>\n",
       "      <td>0.313647</td>\n",
       "    </tr>\n",
       "    <tr>\n",
       "      <th>Bathrooms</th>\n",
       "      <td>0.773638</td>\n",
       "      <td>-0.248055</td>\n",
       "      <td>-0.194897</td>\n",
       "      <td>0.753432</td>\n",
       "      <td>1.000000</td>\n",
       "      <td>0.303258</td>\n",
       "      <td>0.024483</td>\n",
       "      <td>-0.052069</td>\n",
       "      <td>-0.018758</td>\n",
       "      <td>-0.010331</td>\n",
       "      <td>0.016043</td>\n",
       "      <td>0.010026</td>\n",
       "      <td>0.330614</td>\n",
       "    </tr>\n",
       "    <tr>\n",
       "      <th>Balcony</th>\n",
       "      <td>0.361521</td>\n",
       "      <td>-0.151663</td>\n",
       "      <td>0.059638</td>\n",
       "      <td>0.237567</td>\n",
       "      <td>0.303258</td>\n",
       "      <td>1.000000</td>\n",
       "      <td>-0.013977</td>\n",
       "      <td>-0.035568</td>\n",
       "      <td>0.011083</td>\n",
       "      <td>0.001216</td>\n",
       "      <td>0.148764</td>\n",
       "      <td>-0.002599</td>\n",
       "      <td>0.028140</td>\n",
       "    </tr>\n",
       "    <tr>\n",
       "      <th>Status</th>\n",
       "      <td>0.024622</td>\n",
       "      <td>-0.005987</td>\n",
       "      <td>0.004647</td>\n",
       "      <td>0.005778</td>\n",
       "      <td>0.024483</td>\n",
       "      <td>-0.013977</td>\n",
       "      <td>1.000000</td>\n",
       "      <td>-0.127069</td>\n",
       "      <td>-0.002824</td>\n",
       "      <td>-0.006372</td>\n",
       "      <td>0.008236</td>\n",
       "      <td>-0.005648</td>\n",
       "      <td>0.008838</td>\n",
       "    </tr>\n",
       "    <tr>\n",
       "      <th>neworold</th>\n",
       "      <td>-0.067268</td>\n",
       "      <td>0.057831</td>\n",
       "      <td>0.097625</td>\n",
       "      <td>-0.042055</td>\n",
       "      <td>-0.052069</td>\n",
       "      <td>-0.035568</td>\n",
       "      <td>-0.127069</td>\n",
       "      <td>1.000000</td>\n",
       "      <td>0.016201</td>\n",
       "      <td>-0.004731</td>\n",
       "      <td>0.013361</td>\n",
       "      <td>-0.006983</td>\n",
       "      <td>-0.074156</td>\n",
       "    </tr>\n",
       "    <tr>\n",
       "      <th>parking</th>\n",
       "      <td>-0.013302</td>\n",
       "      <td>-0.036681</td>\n",
       "      <td>0.003697</td>\n",
       "      <td>-0.016233</td>\n",
       "      <td>-0.018758</td>\n",
       "      <td>0.011083</td>\n",
       "      <td>-0.002824</td>\n",
       "      <td>0.016201</td>\n",
       "      <td>1.000000</td>\n",
       "      <td>-0.007023</td>\n",
       "      <td>0.025280</td>\n",
       "      <td>0.022445</td>\n",
       "      <td>-0.018500</td>\n",
       "    </tr>\n",
       "    <tr>\n",
       "      <th>Furnished_status</th>\n",
       "      <td>-0.014781</td>\n",
       "      <td>-0.044814</td>\n",
       "      <td>-0.008245</td>\n",
       "      <td>0.008842</td>\n",
       "      <td>-0.010331</td>\n",
       "      <td>0.001216</td>\n",
       "      <td>-0.006372</td>\n",
       "      <td>-0.004731</td>\n",
       "      <td>-0.007023</td>\n",
       "      <td>1.000000</td>\n",
       "      <td>0.043218</td>\n",
       "      <td>-0.007999</td>\n",
       "      <td>-0.052717</td>\n",
       "    </tr>\n",
       "    <tr>\n",
       "      <th>Lift</th>\n",
       "      <td>0.043350</td>\n",
       "      <td>-0.023581</td>\n",
       "      <td>0.077498</td>\n",
       "      <td>-0.026126</td>\n",
       "      <td>0.016043</td>\n",
       "      <td>0.148764</td>\n",
       "      <td>0.008236</td>\n",
       "      <td>0.013361</td>\n",
       "      <td>0.025280</td>\n",
       "      <td>0.043218</td>\n",
       "      <td>1.000000</td>\n",
       "      <td>0.018421</td>\n",
       "      <td>-0.069917</td>\n",
       "    </tr>\n",
       "    <tr>\n",
       "      <th>type_of_building</th>\n",
       "      <td>0.017414</td>\n",
       "      <td>-0.008844</td>\n",
       "      <td>-0.005782</td>\n",
       "      <td>0.010986</td>\n",
       "      <td>0.010026</td>\n",
       "      <td>-0.002599</td>\n",
       "      <td>-0.005648</td>\n",
       "      <td>-0.006983</td>\n",
       "      <td>0.022445</td>\n",
       "      <td>-0.007999</td>\n",
       "      <td>0.018421</td>\n",
       "      <td>1.000000</td>\n",
       "      <td>0.005433</td>\n",
       "    </tr>\n",
       "    <tr>\n",
       "      <th>Price_sqft</th>\n",
       "      <td>0.322863</td>\n",
       "      <td>-0.200779</td>\n",
       "      <td>-0.543093</td>\n",
       "      <td>0.313647</td>\n",
       "      <td>0.330614</td>\n",
       "      <td>0.028140</td>\n",
       "      <td>0.008838</td>\n",
       "      <td>-0.074156</td>\n",
       "      <td>-0.018500</td>\n",
       "      <td>-0.052717</td>\n",
       "      <td>-0.069917</td>\n",
       "      <td>0.005433</td>\n",
       "      <td>1.000000</td>\n",
       "    </tr>\n",
       "  </tbody>\n",
       "</table>\n",
       "</div>"
      ],
      "text/plain": [
       "                      area  latitude  longitude  Bedrooms  Bathrooms  \\\n",
       "area              1.000000 -0.276648  -0.171144  0.708508   0.773638   \n",
       "latitude         -0.276648  1.000000   0.422607 -0.144976  -0.248055   \n",
       "longitude        -0.171144  0.422607   1.000000 -0.156850  -0.194897   \n",
       "Bedrooms          0.708508 -0.144976  -0.156850  1.000000   0.753432   \n",
       "Bathrooms         0.773638 -0.248055  -0.194897  0.753432   1.000000   \n",
       "Balcony           0.361521 -0.151663   0.059638  0.237567   0.303258   \n",
       "Status            0.024622 -0.005987   0.004647  0.005778   0.024483   \n",
       "neworold         -0.067268  0.057831   0.097625 -0.042055  -0.052069   \n",
       "parking          -0.013302 -0.036681   0.003697 -0.016233  -0.018758   \n",
       "Furnished_status -0.014781 -0.044814  -0.008245  0.008842  -0.010331   \n",
       "Lift              0.043350 -0.023581   0.077498 -0.026126   0.016043   \n",
       "type_of_building  0.017414 -0.008844  -0.005782  0.010986   0.010026   \n",
       "Price_sqft        0.322863 -0.200779  -0.543093  0.313647   0.330614   \n",
       "\n",
       "                   Balcony    Status  neworold   parking  Furnished_status  \\\n",
       "area              0.361521  0.024622 -0.067268 -0.013302         -0.014781   \n",
       "latitude         -0.151663 -0.005987  0.057831 -0.036681         -0.044814   \n",
       "longitude         0.059638  0.004647  0.097625  0.003697         -0.008245   \n",
       "Bedrooms          0.237567  0.005778 -0.042055 -0.016233          0.008842   \n",
       "Bathrooms         0.303258  0.024483 -0.052069 -0.018758         -0.010331   \n",
       "Balcony           1.000000 -0.013977 -0.035568  0.011083          0.001216   \n",
       "Status           -0.013977  1.000000 -0.127069 -0.002824         -0.006372   \n",
       "neworold         -0.035568 -0.127069  1.000000  0.016201         -0.004731   \n",
       "parking           0.011083 -0.002824  0.016201  1.000000         -0.007023   \n",
       "Furnished_status  0.001216 -0.006372 -0.004731 -0.007023          1.000000   \n",
       "Lift              0.148764  0.008236  0.013361  0.025280          0.043218   \n",
       "type_of_building -0.002599 -0.005648 -0.006983  0.022445         -0.007999   \n",
       "Price_sqft        0.028140  0.008838 -0.074156 -0.018500         -0.052717   \n",
       "\n",
       "                      Lift  type_of_building  Price_sqft  \n",
       "area              0.043350          0.017414    0.322863  \n",
       "latitude         -0.023581         -0.008844   -0.200779  \n",
       "longitude         0.077498         -0.005782   -0.543093  \n",
       "Bedrooms         -0.026126          0.010986    0.313647  \n",
       "Bathrooms         0.016043          0.010026    0.330614  \n",
       "Balcony           0.148764         -0.002599    0.028140  \n",
       "Status            0.008236         -0.005648    0.008838  \n",
       "neworold          0.013361         -0.006983   -0.074156  \n",
       "parking           0.025280          0.022445   -0.018500  \n",
       "Furnished_status  0.043218         -0.007999   -0.052717  \n",
       "Lift              1.000000          0.018421   -0.069917  \n",
       "type_of_building  0.018421          1.000000    0.005433  \n",
       "Price_sqft       -0.069917          0.005433    1.000000  "
      ]
     },
     "execution_count": 28,
     "metadata": {},
     "output_type": "execute_result"
    }
   ],
   "source": [
    "final_df.corr(numeric_only=True)"
   ]
  },
  {
   "cell_type": "code",
   "execution_count": 29,
   "metadata": {
    "colab": {
     "base_uri": "https://localhost:8080/",
     "height": 243
    },
    "id": "fzRUNU7MubM2",
    "outputId": "a72e7715-0f1e-4522-8d2b-9166d381bd47"
   },
   "outputs": [
    {
     "data": {
      "text/html": [
       "<div>\n",
       "<style scoped>\n",
       "    .dataframe tbody tr th:only-of-type {\n",
       "        vertical-align: middle;\n",
       "    }\n",
       "\n",
       "    .dataframe tbody tr th {\n",
       "        vertical-align: top;\n",
       "    }\n",
       "\n",
       "    .dataframe thead th {\n",
       "        text-align: right;\n",
       "    }\n",
       "</style>\n",
       "<table border=\"1\" class=\"dataframe\">\n",
       "  <thead>\n",
       "    <tr style=\"text-align: right;\">\n",
       "      <th></th>\n",
       "      <th>area</th>\n",
       "      <th>latitude</th>\n",
       "      <th>longitude</th>\n",
       "      <th>Bedrooms</th>\n",
       "      <th>Bathrooms</th>\n",
       "      <th>Balcony</th>\n",
       "      <th>Status</th>\n",
       "      <th>neworold</th>\n",
       "      <th>parking</th>\n",
       "      <th>Furnished_status</th>\n",
       "      <th>Lift</th>\n",
       "      <th>type_of_building</th>\n",
       "      <th>Price_sqft</th>\n",
       "    </tr>\n",
       "  </thead>\n",
       "  <tbody>\n",
       "    <tr>\n",
       "      <th>0</th>\n",
       "      <td>1350.0</td>\n",
       "      <td>28.608850</td>\n",
       "      <td>77.460560</td>\n",
       "      <td>3.0</td>\n",
       "      <td>3.0</td>\n",
       "      <td>2.0</td>\n",
       "      <td>1</td>\n",
       "      <td>0</td>\n",
       "      <td>1.0</td>\n",
       "      <td>1</td>\n",
       "      <td>2.0</td>\n",
       "      <td>0</td>\n",
       "      <td>4148.148148</td>\n",
       "    </tr>\n",
       "    <tr>\n",
       "      <th>1</th>\n",
       "      <td>1490.0</td>\n",
       "      <td>28.374236</td>\n",
       "      <td>76.952416</td>\n",
       "      <td>3.0</td>\n",
       "      <td>3.0</td>\n",
       "      <td>2.0</td>\n",
       "      <td>0</td>\n",
       "      <td>0</td>\n",
       "      <td>1.0</td>\n",
       "      <td>1</td>\n",
       "      <td>2.0</td>\n",
       "      <td>0</td>\n",
       "      <td>5906.040268</td>\n",
       "    </tr>\n",
       "    <tr>\n",
       "      <th>2</th>\n",
       "      <td>2385.0</td>\n",
       "      <td>28.645769</td>\n",
       "      <td>77.385110</td>\n",
       "      <td>4.0</td>\n",
       "      <td>5.0</td>\n",
       "      <td>2.0</td>\n",
       "      <td>0</td>\n",
       "      <td>0</td>\n",
       "      <td>1.0</td>\n",
       "      <td>2</td>\n",
       "      <td>2.0</td>\n",
       "      <td>0</td>\n",
       "      <td>6918.238994</td>\n",
       "    </tr>\n",
       "    <tr>\n",
       "      <th>3</th>\n",
       "      <td>1050.0</td>\n",
       "      <td>28.566914</td>\n",
       "      <td>77.436434</td>\n",
       "      <td>2.0</td>\n",
       "      <td>2.0</td>\n",
       "      <td>3.0</td>\n",
       "      <td>0</td>\n",
       "      <td>0</td>\n",
       "      <td>1.0</td>\n",
       "      <td>2</td>\n",
       "      <td>2.0</td>\n",
       "      <td>0</td>\n",
       "      <td>3628.571429</td>\n",
       "    </tr>\n",
       "    <tr>\n",
       "      <th>4</th>\n",
       "      <td>1350.0</td>\n",
       "      <td>28.520732</td>\n",
       "      <td>77.356491</td>\n",
       "      <td>2.0</td>\n",
       "      <td>2.0</td>\n",
       "      <td>3.0</td>\n",
       "      <td>0</td>\n",
       "      <td>1</td>\n",
       "      <td>1.0</td>\n",
       "      <td>1</td>\n",
       "      <td>3.0</td>\n",
       "      <td>0</td>\n",
       "      <td>4592.592593</td>\n",
       "    </tr>\n",
       "  </tbody>\n",
       "</table>\n",
       "</div>"
      ],
      "text/plain": [
       "     area   latitude  longitude  Bedrooms  Bathrooms  Balcony  Status  \\\n",
       "0  1350.0  28.608850  77.460560       3.0        3.0      2.0       1   \n",
       "1  1490.0  28.374236  76.952416       3.0        3.0      2.0       0   \n",
       "2  2385.0  28.645769  77.385110       4.0        5.0      2.0       0   \n",
       "3  1050.0  28.566914  77.436434       2.0        2.0      3.0       0   \n",
       "4  1350.0  28.520732  77.356491       2.0        2.0      3.0       0   \n",
       "\n",
       "   neworold  parking  Furnished_status  Lift  type_of_building   Price_sqft  \n",
       "0         0      1.0                 1   2.0                 0  4148.148148  \n",
       "1         0      1.0                 1   2.0                 0  5906.040268  \n",
       "2         0      1.0                 2   2.0                 0  6918.238994  \n",
       "3         0      1.0                 2   2.0                 0  3628.571429  \n",
       "4         1      1.0                 1   3.0                 0  4592.592593  "
      ]
     },
     "execution_count": 29,
     "metadata": {},
     "output_type": "execute_result"
    }
   ],
   "source": [
    "final_df.head()"
   ]
  },
  {
   "cell_type": "code",
   "execution_count": 30,
   "metadata": {},
   "outputs": [],
   "source": [
    "final_df.drop([\"Status\"],axis=1,inplace=True)"
   ]
  },
  {
   "cell_type": "code",
   "execution_count": 31,
   "metadata": {
    "colab": {
     "base_uri": "https://localhost:8080/"
    },
    "id": "Gmb_yP3Ibx-j",
    "outputId": "153a51ac-32e8-43fe-a4d5-e4f41e49886a"
   },
   "outputs": [
    {
     "data": {
      "text/plain": [
       "(7360, 12)"
      ]
     },
     "execution_count": 31,
     "metadata": {},
     "output_type": "execute_result"
    }
   ],
   "source": [
    "final_df.shape"
   ]
  },
  {
   "cell_type": "code",
   "execution_count": 32,
   "metadata": {
    "id": "hWdNffPUl2-_"
   },
   "outputs": [],
   "source": [
    "x=final_df.drop(\"Price_sqft\",axis=1)\n",
    "y=final_df[\"Price_sqft\"]\n",
    "x=np.array(x)\n",
    "y=np.array(y)"
   ]
  },
  {
   "cell_type": "code",
   "execution_count": 33,
   "metadata": {
    "colab": {
     "base_uri": "https://localhost:8080/"
    },
    "id": "FjNcY5Y9qhZd",
    "outputId": "620ec84e-cddb-43dc-8653-b85638837d7f"
   },
   "outputs": [
    {
     "data": {
      "text/plain": [
       "11"
      ]
     },
     "execution_count": 33,
     "metadata": {},
     "output_type": "execute_result"
    }
   ],
   "source": [
    "x_col=x.shape[1]\n",
    "x_col"
   ]
  },
  {
   "cell_type": "markdown",
   "metadata": {},
   "source": [
    "Splitting the whole dataset into train and test datasets"
   ]
  },
  {
   "cell_type": "code",
   "execution_count": 34,
   "metadata": {
    "id": "rjgW7K1boWA3"
   },
   "outputs": [],
   "source": [
    "from sklearn.model_selection import train_test_split\n",
    "x_train,x_test,y_train,y_test=train_test_split(x,y,test_size=0.2,random_state=42)"
   ]
  },
  {
   "cell_type": "markdown",
   "metadata": {},
   "source": [
    "Scaling the features"
   ]
  },
  {
   "cell_type": "code",
   "execution_count": 35,
   "metadata": {
    "colab": {
     "base_uri": "https://localhost:8080/",
     "height": 35
    },
    "id": "_g6dfBukoa4e",
    "outputId": "1ea662c5-607c-4acf-cc9d-b4ddaef751d3"
   },
   "outputs": [],
   "source": [
    "from sklearn.preprocessing import StandardScaler\n",
    "sc=StandardScaler()\n",
    "x_train=sc.fit_transform(x_train)\n",
    "x_test=sc.transform(x_test)"
   ]
  },
  {
   "cell_type": "code",
   "execution_count": 36,
   "metadata": {
    "id": "3Cz2LKxXogat"
   },
   "outputs": [
    {
     "name": "stdout",
     "output_type": "stream",
     "text": [
      "WARNING:tensorflow:From C:\\Users\\mdsk5\\anaconda3\\Lib\\site-packages\\keras\\src\\losses.py:2976: The name tf.losses.sparse_softmax_cross_entropy is deprecated. Please use tf.compat.v1.losses.sparse_softmax_cross_entropy instead.\n",
      "\n"
     ]
    }
   ],
   "source": [
    "import tensorflow as tf\n",
    "from tensorflow import keras\n",
    "from keras import Sequential\n",
    "from keras.layers import Dense,BatchNormalization, Dropout\n",
    "import keras_tuner as kt"
   ]
  },
  {
   "cell_type": "markdown",
   "metadata": {},
   "source": [
    "Hyperparameter Tuning using RandomSearchCV "
   ]
  },
  {
   "cell_type": "code",
   "execution_count": 37,
   "metadata": {
    "id": "1s1btJ7_ol1W"
   },
   "outputs": [],
   "source": [
    "def build_model(hp):\n",
    "    model=Sequential()\n",
    "    model.add(keras.Input(shape=(x_col,)))\n",
    "    for i in range(hp.Int(\"layers\",min_value=1,max_value=10)):\n",
    "        model.add(\n",
    "            Dense(\n",
    "                hp.Int(\"unit\"+str(i),min_value=5,max_value=300,step=60),\n",
    "                activation=hp.Choice(\"activation\"+str(i),values=[\"relu\",\"tanh\"])\n",
    "                )\n",
    "            )\n",
    "    model.add(Dense(1,activation=\"linear\"))\n",
    "    model.compile(optimizer=tf.keras.optimizers.Adam(\n",
    "                  hp.Float('learning_rate', min_value=1e-4, max_value=1e-2, sampling='LOG')),\n",
    "                  loss=\"mse\",metrics=[\"mae\"])\n",
    "    \n",
    "    return model"
   ]
  },
  {
   "cell_type": "code",
   "execution_count": 38,
   "metadata": {
    "colab": {
     "base_uri": "https://localhost:8080/",
     "height": 433
    },
    "id": "XQHRcSNVqt-J",
    "outputId": "7891dc61-5ab7-4433-ce1f-33a8b7c6029c"
   },
   "outputs": [
    {
     "name": "stdout",
     "output_type": "stream",
     "text": [
      "Reloading Tuner from my_dir\\hp\\tuner0.json\n"
     ]
    }
   ],
   "source": [
    "tuner=kt.RandomSearch(build_model,\n",
    "                     objective=\"mae\",\n",
    "                     max_trials=20,\n",
    "                     directory='my_dir',\n",
    "                     project_name='hp')"
   ]
  },
  {
   "cell_type": "code",
   "execution_count": 39,
   "metadata": {},
   "outputs": [
    {
     "name": "stdout",
     "output_type": "stream",
     "text": [
      "Trial 20 Complete [00h 00m 09s]\n",
      "mae: 2395.01318359375\n",
      "\n",
      "Best mae So Far: 775.0404052734375\n",
      "Total elapsed time: 00h 03m 51s\n"
     ]
    }
   ],
   "source": [
    "tuner.search(x_train,y_train,epochs=20,validation_data=(x_test,y_test))"
   ]
  },
  {
   "cell_type": "code",
   "execution_count": 40,
   "metadata": {},
   "outputs": [
    {
     "data": {
      "text/plain": [
       "{'layers': 5,\n",
       " 'unit0': 245,\n",
       " 'activation0': 'relu',\n",
       " 'learning_rate': 0.0002662432681570655,\n",
       " 'unit1': 5,\n",
       " 'activation1': 'tanh',\n",
       " 'unit2': 5,\n",
       " 'activation2': 'relu',\n",
       " 'unit3': 245,\n",
       " 'activation3': 'relu',\n",
       " 'unit4': 245,\n",
       " 'activation4': 'relu',\n",
       " 'unit5': 185,\n",
       " 'activation5': 'relu',\n",
       " 'unit6': 125,\n",
       " 'activation6': 'relu',\n",
       " 'unit7': 185,\n",
       " 'activation7': 'tanh',\n",
       " 'unit8': 125,\n",
       " 'activation8': 'tanh',\n",
       " 'unit9': 5,\n",
       " 'activation9': 'tanh'}"
      ]
     },
     "execution_count": 40,
     "metadata": {},
     "output_type": "execute_result"
    }
   ],
   "source": [
    "tuner.get_best_hyperparameters()[0].values"
   ]
  },
  {
   "cell_type": "code",
   "execution_count": 41,
   "metadata": {},
   "outputs": [
    {
     "name": "stdout",
     "output_type": "stream",
     "text": [
      "WARNING:tensorflow:From C:\\Users\\mdsk5\\anaconda3\\Lib\\site-packages\\keras\\src\\saving\\legacy\\save.py:538: The name tf.train.NewCheckpointReader is deprecated. Please use tf.compat.v1.train.NewCheckpointReader instead.\n",
      "\n",
      "Model: \"sequential\"\n",
      "_________________________________________________________________\n",
      " Layer (type)                Output Shape              Param #   \n",
      "=================================================================\n",
      " dense (Dense)               (None, 245)               2940      \n",
      "                                                                 \n",
      " dense_1 (Dense)             (None, 5)                 1230      \n",
      "                                                                 \n",
      " dense_2 (Dense)             (None, 5)                 30        \n",
      "                                                                 \n",
      " dense_3 (Dense)             (None, 245)               1470      \n",
      "                                                                 \n",
      " dense_4 (Dense)             (None, 245)               60270     \n",
      "                                                                 \n",
      " dense_5 (Dense)             (None, 1)                 246       \n",
      "                                                                 \n",
      "=================================================================\n",
      "Total params: 66186 (258.54 KB)\n",
      "Trainable params: 66186 (258.54 KB)\n",
      "Non-trainable params: 0 (0.00 Byte)\n",
      "_________________________________________________________________\n"
     ]
    }
   ],
   "source": [
    "model=tuner.get_best_models(num_models=1)[0]\n",
    "model.summary()"
   ]
  },
  {
   "cell_type": "markdown",
   "metadata": {},
   "source": [
    "Using callbacks to prevent overfitting"
   ]
  },
  {
   "cell_type": "code",
   "execution_count": 42,
   "metadata": {},
   "outputs": [],
   "source": [
    "callback=keras.callbacks.EarlyStopping(\n",
    "    monitor=\"val_loss\",\n",
    "    min_delta=0,\n",
    "    patience=5,\n",
    "    verbose=1,\n",
    "    mode=\"auto\",\n",
    "    baseline=None,\n",
    ")"
   ]
  },
  {
   "cell_type": "code",
   "execution_count": 43,
   "metadata": {
    "colab": {
     "base_uri": "https://localhost:8080/",
     "height": 304
    },
    "id": "2e3gTVA2rasH",
    "outputId": "f1f70658-60bf-4fb7-b121-9822c11ba573"
   },
   "outputs": [
    {
     "name": "stdout",
     "output_type": "stream",
     "text": [
      "Epoch 1/200\n",
      "184/184 [==============================] - 1s 3ms/step - loss: 1050349.7500 - mae: 771.1406 - val_loss: 1134551.2500 - val_mae: 805.5239\n",
      "Epoch 2/200\n",
      "184/184 [==============================] - 0s 2ms/step - loss: 1041084.1875 - mae: 766.4742 - val_loss: 1124809.7500 - val_mae: 806.0350\n",
      "Epoch 3/200\n",
      "184/184 [==============================] - 0s 2ms/step - loss: 1030343.5625 - mae: 762.7241 - val_loss: 1116075.7500 - val_mae: 801.4805\n",
      "Epoch 4/200\n",
      "184/184 [==============================] - 0s 2ms/step - loss: 1021626.1875 - mae: 759.6195 - val_loss: 1137453.5000 - val_mae: 801.6863\n",
      "Epoch 5/200\n",
      "184/184 [==============================] - 0s 2ms/step - loss: 1015045.3750 - mae: 755.0263 - val_loss: 1109939.8750 - val_mae: 798.3193\n",
      "Epoch 6/200\n",
      "184/184 [==============================] - 0s 2ms/step - loss: 1008032.6250 - mae: 752.6318 - val_loss: 1099815.5000 - val_mae: 793.0822\n",
      "Epoch 7/200\n",
      "184/184 [==============================] - 0s 2ms/step - loss: 997602.4375 - mae: 749.6944 - val_loss: 1103051.2500 - val_mae: 792.4496\n",
      "Epoch 8/200\n",
      "184/184 [==============================] - 0s 2ms/step - loss: 989874.0000 - mae: 747.2515 - val_loss: 1091946.1250 - val_mae: 783.2615\n",
      "Epoch 9/200\n",
      "184/184 [==============================] - 0s 2ms/step - loss: 987049.1250 - mae: 745.0770 - val_loss: 1085937.8750 - val_mae: 788.6705\n",
      "Epoch 10/200\n",
      "184/184 [==============================] - 1s 3ms/step - loss: 978434.8750 - mae: 742.0422 - val_loss: 1075823.7500 - val_mae: 780.5148\n",
      "Epoch 11/200\n",
      "184/184 [==============================] - 0s 2ms/step - loss: 974809.5625 - mae: 740.3794 - val_loss: 1077887.0000 - val_mae: 785.3599\n",
      "Epoch 12/200\n",
      "184/184 [==============================] - 0s 2ms/step - loss: 964707.1250 - mae: 734.7602 - val_loss: 1072209.8750 - val_mae: 783.3728\n",
      "Epoch 13/200\n",
      "184/184 [==============================] - 0s 2ms/step - loss: 956347.9375 - mae: 731.6196 - val_loss: 1059081.7500 - val_mae: 775.7266\n",
      "Epoch 14/200\n",
      "184/184 [==============================] - 0s 2ms/step - loss: 955677.8125 - mae: 733.4897 - val_loss: 1069719.6250 - val_mae: 769.1562\n",
      "Epoch 15/200\n",
      "184/184 [==============================] - 0s 2ms/step - loss: 948833.3750 - mae: 728.4099 - val_loss: 1052706.6250 - val_mae: 774.6198\n",
      "Epoch 16/200\n",
      "184/184 [==============================] - 0s 2ms/step - loss: 940407.5000 - mae: 726.6315 - val_loss: 1061406.1250 - val_mae: 767.3257\n",
      "Epoch 17/200\n",
      "184/184 [==============================] - 0s 2ms/step - loss: 940823.5000 - mae: 725.0844 - val_loss: 1054740.7500 - val_mae: 777.8772\n",
      "Epoch 18/200\n",
      "184/184 [==============================] - 0s 2ms/step - loss: 932829.5625 - mae: 724.0141 - val_loss: 1052434.6250 - val_mae: 777.4741\n",
      "Epoch 19/200\n",
      "184/184 [==============================] - 0s 2ms/step - loss: 932989.1875 - mae: 723.5446 - val_loss: 1040966.0625 - val_mae: 763.0253\n",
      "Epoch 20/200\n",
      "184/184 [==============================] - 0s 2ms/step - loss: 926398.0000 - mae: 718.0724 - val_loss: 1037669.7500 - val_mae: 764.5653\n",
      "Epoch 21/200\n",
      "184/184 [==============================] - 0s 2ms/step - loss: 917791.5000 - mae: 717.8456 - val_loss: 1036296.4375 - val_mae: 759.4383\n",
      "Epoch 22/200\n",
      "184/184 [==============================] - 0s 2ms/step - loss: 923847.5000 - mae: 719.1830 - val_loss: 1048330.9375 - val_mae: 765.0922\n",
      "Epoch 23/200\n",
      "184/184 [==============================] - 0s 2ms/step - loss: 914069.8125 - mae: 714.0080 - val_loss: 1031397.7500 - val_mae: 763.8140\n",
      "Epoch 24/200\n",
      "184/184 [==============================] - 0s 2ms/step - loss: 911961.1875 - mae: 713.8069 - val_loss: 1031482.6875 - val_mae: 756.2954\n",
      "Epoch 25/200\n",
      "184/184 [==============================] - 0s 2ms/step - loss: 908059.6250 - mae: 712.2388 - val_loss: 1026844.0625 - val_mae: 761.4702\n",
      "Epoch 26/200\n",
      "184/184 [==============================] - 0s 2ms/step - loss: 904484.1875 - mae: 710.7975 - val_loss: 1041968.0000 - val_mae: 764.5232\n",
      "Epoch 27/200\n",
      "184/184 [==============================] - 0s 2ms/step - loss: 900236.6875 - mae: 709.2963 - val_loss: 1025207.7500 - val_mae: 761.3053\n",
      "Epoch 28/200\n",
      "184/184 [==============================] - 0s 3ms/step - loss: 898880.9375 - mae: 709.0389 - val_loss: 1024822.1875 - val_mae: 762.2409\n",
      "Epoch 29/200\n",
      "184/184 [==============================] - 0s 2ms/step - loss: 897594.4375 - mae: 708.5884 - val_loss: 1017260.8125 - val_mae: 758.2079\n",
      "Epoch 30/200\n",
      "184/184 [==============================] - 0s 2ms/step - loss: 896890.9375 - mae: 706.1305 - val_loss: 1015632.0625 - val_mae: 752.6676\n",
      "Epoch 31/200\n",
      "184/184 [==============================] - 0s 2ms/step - loss: 891738.1875 - mae: 706.9269 - val_loss: 1018317.5000 - val_mae: 753.8192\n",
      "Epoch 32/200\n",
      "184/184 [==============================] - 0s 2ms/step - loss: 888681.9375 - mae: 706.4627 - val_loss: 1020068.0625 - val_mae: 759.7234\n",
      "Epoch 33/200\n",
      "184/184 [==============================] - 0s 2ms/step - loss: 885374.9375 - mae: 704.3605 - val_loss: 1023940.6250 - val_mae: 761.7509\n",
      "Epoch 34/200\n",
      "184/184 [==============================] - 0s 2ms/step - loss: 882950.8750 - mae: 702.7349 - val_loss: 1030001.6250 - val_mae: 757.2977\n",
      "Epoch 35/200\n",
      "184/184 [==============================] - 0s 2ms/step - loss: 879903.6250 - mae: 702.5853 - val_loss: 1006441.6250 - val_mae: 748.2228\n",
      "Epoch 36/200\n",
      "184/184 [==============================] - 0s 2ms/step - loss: 879767.5625 - mae: 701.7951 - val_loss: 1004853.6250 - val_mae: 747.8186\n",
      "Epoch 37/200\n",
      "184/184 [==============================] - 0s 2ms/step - loss: 874734.0625 - mae: 700.2505 - val_loss: 1021284.2500 - val_mae: 753.0834\n",
      "Epoch 38/200\n",
      "184/184 [==============================] - 0s 2ms/step - loss: 874325.3750 - mae: 699.5425 - val_loss: 1011568.4375 - val_mae: 756.8805\n",
      "Epoch 39/200\n",
      "184/184 [==============================] - 0s 2ms/step - loss: 867895.0625 - mae: 697.3554 - val_loss: 1021232.5000 - val_mae: 752.7552\n",
      "Epoch 40/200\n",
      "184/184 [==============================] - 0s 2ms/step - loss: 869066.8750 - mae: 698.2853 - val_loss: 1009981.7500 - val_mae: 745.3506\n",
      "Epoch 41/200\n",
      "184/184 [==============================] - 0s 2ms/step - loss: 867708.4375 - mae: 696.8190 - val_loss: 1008312.6875 - val_mae: 753.9169\n",
      "Epoch 41: early stopping\n"
     ]
    }
   ],
   "source": [
    "history=model.fit(x_train,y_train,epochs=200,validation_data=(x_test,y_test),callbacks=callback)"
   ]
  },
  {
   "cell_type": "markdown",
   "metadata": {},
   "source": [
    "Model evaluation"
   ]
  },
  {
   "cell_type": "code",
   "execution_count": 44,
   "metadata": {
    "id": "HdFXRvz4rtDu"
   },
   "outputs": [
    {
     "name": "stdout",
     "output_type": "stream",
     "text": [
      "46/46 [==============================] - 0s 1ms/step\n",
      "Mean Absolute Error (MAE): 753.916823335624\n",
      "r2 score: 0.6421548497867977\n"
     ]
    }
   ],
   "source": [
    "from sklearn.metrics import mean_absolute_error,r2_score,accuracy_score\n",
    "\n",
    "# Compute MAE\n",
    "y_pred=model.predict(x_test)\n",
    "mae = mean_absolute_error(y_test,y_pred )\n",
    "r2=r2_score(y_test,y_pred)\n",
    "print(f\"Mean Absolute Error (MAE): {mae}\")\n",
    "print(f\"r2 score: {r2}\")"
   ]
  },
  {
   "cell_type": "markdown",
   "metadata": {},
   "source": [
    "Plotting relative differences in output "
   ]
  },
  {
   "cell_type": "code",
   "execution_count": 45,
   "metadata": {},
   "outputs": [
    {
     "data": {
      "image/png": "[encoded data removed]",
      "text/plain": [
       "<Figure size 640x480 with 1 Axes>"
      ]
     },
     "metadata": {},
     "output_type": "display_data"
    }
   ],
   "source": [
    "res=y_test-y_pred[0]\n",
    "plt.scatter(y_test,res/y_test)\n",
    "plt.xlabel(\"y_test\")\n",
    "plt.ylabel(\"(y_test-y_pred)/y_test\")\n",
    "plt.show()"
   ]
  },
  {
   "cell_type": "markdown",
   "metadata": {},
   "source": [
    "Comparison the performance between train and validation datasets"
   ]
  },
  {
   "cell_type": "code",
   "execution_count": 46,
   "metadata": {
    "id": "xTShiASbrK5O"
   },
   "outputs": [
    {
     "data": {
      "image/png": "[encoded data removed]",
      "text/plain": [
       "<Figure size 640x480 with 1 Axes>"
      ]
     },
     "metadata": {},
     "output_type": "display_data"
    }
   ],
   "source": [
    "plt.plot(history.history[\"mae\"],color=\"red\",label=\"train\")\n",
    "plt.plot(history.history[\"val_mae\"],color=\"blue\",label=\"validation\")\n",
    "plt.title('mae')\n",
    "plt.ylabel('mae')\n",
    "plt.xlabel('Epoch')\n",
    "plt.legend()\n",
    "plt.show()"
   ]
  }
 ],
 "metadata": {
  "colab": {
   "provenance": []
  },
  "kernelspec": {
   "display_name": "Python 3 (ipykernel)",
   "language": "python",
   "name": "python3"
  },
  "language_info": {
   "codemirror_mode": {
    "name": "ipython",
    "version": 3
   },
   "file_extension": ".py",
   "mimetype": "text/x-python",
   "name": "python",
   "nbconvert_exporter": "python",
   "pygments_lexer": "ipython3",
   "version": "3.11.5"
  }
 },
 "nbformat": 4,
 "nbformat_minor": 1
}
